{
 "cells": [
  {
   "cell_type": "code",
   "execution_count": null,
   "metadata": {},
   "outputs": [],
   "source": [
    "from pathlib import Path\n",
    "import os\n",
    "\n",
    "cfd = Path(os.getcwd())\n",
    "os.chdir(cfd.parent.absolute())\n",
    "os.getcwd()"
   ]
  },
  {
   "cell_type": "code",
   "execution_count": 2,
   "metadata": {},
   "outputs": [],
   "source": [
    "import pandas as pd\n",
    "import plotly.express as px"
   ]
  },
  {
   "cell_type": "code",
   "execution_count": 3,
   "metadata": {},
   "outputs": [],
   "source": [
    "eval_metrics = pd.read_csv(\"final_simulation\\\\_models\\\\eval\\\\eval_metrics.csv\")"
   ]
  },
  {
   "cell_type": "markdown",
   "metadata": {},
   "source": [
    "Get averages values across all episodes for each model"
   ]
  },
  {
   "cell_type": "code",
   "execution_count": null,
   "metadata": {},
   "outputs": [],
   "source": [
    "average_eval_metrics = eval_metrics.groupby(['model_name','steps'],as_index=False)[['reward','throughput','waiting_time','cars_waiting','signal_changes']].mean()"
   ]
  },
  {
   "cell_type": "markdown",
   "metadata": {},
   "source": [
    "### Reward"
   ]
  },
  {
   "cell_type": "code",
   "execution_count": null,
   "metadata": {},
   "outputs": [],
   "source": [
    "fig = px.line(\n",
    "    data_frame=average_eval_metrics,\n",
    "    x='steps',\n",
    "    y='reward',\n",
    "    color='model_name',\n",
    "    title=\"Reward\"\n",
    ")\n",
    "\n",
    "fig.show()"
   ]
  },
  {
   "cell_type": "markdown",
   "metadata": {},
   "source": [
    "### Throughput (Instantaneous)"
   ]
  },
  {
   "cell_type": "code",
   "execution_count": null,
   "metadata": {},
   "outputs": [],
   "source": [
    "fig = px.bar(\n",
    "    data_frame=average_eval_metrics,\n",
    "    x='steps',\n",
    "    y='throughput',\n",
    "    color='model_name',\n",
    "    title=\"Throughput (Instantaneous)\",\n",
    "    facet_col='model_name',\n",
    "    facet_col_wrap=2\n",
    ").update_yaxes(title=None)\n",
    "\n",
    "fig.show()"
   ]
  },
  {
   "cell_type": "markdown",
   "metadata": {},
   "source": [
    "### Throughput (Cumulative)"
   ]
  },
  {
   "cell_type": "code",
   "execution_count": null,
   "metadata": {},
   "outputs": [],
   "source": [
    "fig = px.line(\n",
    "    data_frame=average_eval_metrics.join(average_eval_metrics.groupby(['model_name'], as_index=False)['throughput'].cumsum(), rsuffix=\"_cumsum\"),\n",
    "    x='steps',\n",
    "    y='throughput_cumsum',\n",
    "    color='model_name',\n",
    "    title=\"Throughput (Cumulative)\"\n",
    ")\n",
    "\n",
    "fig.show()"
   ]
  },
  {
   "cell_type": "markdown",
   "metadata": {},
   "source": [
    "### Cars Waiting"
   ]
  },
  {
   "cell_type": "code",
   "execution_count": null,
   "metadata": {},
   "outputs": [],
   "source": [
    "fig = px.line(\n",
    "    data_frame=average_eval_metrics,\n",
    "    x='steps',\n",
    "    y='cars_waiting',\n",
    "    color='model_name',\n",
    "    title=\"Cars Waiting\"\n",
    ")\n",
    "\n",
    "fig.show()"
   ]
  },
  {
   "cell_type": "markdown",
   "metadata": {},
   "source": [
    "### Accumulated Waiting Time"
   ]
  },
  {
   "cell_type": "code",
   "execution_count": null,
   "metadata": {},
   "outputs": [],
   "source": [
    "fig = px.line(\n",
    "    data_frame=average_eval_metrics,\n",
    "    x='steps',\n",
    "    y='waiting_time',\n",
    "    color='model_name',\n",
    "    title=\"Accumulated Waiting Time\"\n",
    ")\n",
    "\n",
    "fig.show()"
   ]
  },
  {
   "cell_type": "markdown",
   "metadata": {},
   "source": [
    "### Signal Changes"
   ]
  },
  {
   "cell_type": "code",
   "execution_count": null,
   "metadata": {},
   "outputs": [],
   "source": [
    "fig = px.bar(\n",
    "    data_frame=average_eval_metrics,\n",
    "    x='steps',\n",
    "    y='signal_changes',\n",
    "    color='model_name',\n",
    "    title=\"Signal Changes\",\n",
    "    facet_col='model_name',\n",
    "    facet_col_wrap=1,\n",
    "    height=600\n",
    ").update_yaxes(title=None)\n",
    "\n",
    "fig.show()"
   ]
  }
 ],
 "metadata": {
  "interpreter": {
   "hash": "f344f29490a86472adfcb0d4c68c5dfdcf97bca003fdba9df268b07cb4a6c3e0"
  },
  "kernelspec": {
   "display_name": "Python 3.8.7 ('_penv': venv)",
   "language": "python",
   "name": "python3"
  },
  "language_info": {
   "codemirror_mode": {
    "name": "ipython",
    "version": 3
   },
   "file_extension": ".py",
   "mimetype": "text/x-python",
   "name": "python",
   "nbconvert_exporter": "python",
   "pygments_lexer": "ipython3",
   "version": "3.8.7"
  },
  "orig_nbformat": 4
 },
 "nbformat": 4,
 "nbformat_minor": 2
}
