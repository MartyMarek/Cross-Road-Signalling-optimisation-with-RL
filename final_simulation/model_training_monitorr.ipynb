{
 "cells": [
  {
   "cell_type": "code",
   "execution_count": null,
   "metadata": {},
   "outputs": [],
   "source": [
    "from stable_baselines3.common import results_plotter"
   ]
  },
  {
   "cell_type": "markdown",
   "metadata": {},
   "source": [
    "# PPO\n",
    "---"
   ]
  },
  {
   "cell_type": "markdown",
   "metadata": {},
   "source": [
    "### Reward 07"
   ]
  },
  {
   "cell_type": "code",
   "execution_count": null,
   "metadata": {},
   "outputs": [],
   "source": [
    "log_dir = \"_models\\\\reward_07\\\\ppo\"\n",
    "#results_plotter.plot_results([log_dir], None, results_plotter.X_TIMESTEPS, \"Real Intersection\",figsize=(15,5))\n",
    "results_plotter.plot_results([log_dir], None, results_plotter.X_EPISODES, \"PPO. Reward Function 7. 2 Minute Simulation. LR = 0.01\",figsize=(15,5))\n",
    "#results_plotter.plot_results([log_dir], None, results_plotter.X_WALLTIME, \"Real Intersection\",figsize=(15,5))"
   ]
  },
  {
   "cell_type": "markdown",
   "metadata": {},
   "source": [
    "### Reward 08"
   ]
  },
  {
   "cell_type": "code",
   "execution_count": null,
   "metadata": {},
   "outputs": [],
   "source": [
    "log_dir = \"_models\\\\reward_08\\\\ppo\"\n",
    "#results_plotter.plot_results([log_dir], None, results_plotter.X_TIMESTEPS, \"Real Intersection\",figsize=(15,5))\n",
    "results_plotter.plot_results([log_dir], None, results_plotter.X_EPISODES, \"PPO. Reward Function 7. 2 Minute Simulation. LR = 0.01\",figsize=(15,5))\n",
    "#results_plotter.plot_results([log_dir], None, results_plotter.X_WALLTIME, \"Real Intersection\",figsize=(15,5))"
   ]
  },
  {
   "cell_type": "markdown",
   "metadata": {},
   "source": [
    "### Reward 09"
   ]
  },
  {
   "cell_type": "code",
   "execution_count": null,
   "metadata": {},
   "outputs": [],
   "source": [
    "log_dir = \"_models\\\\reward_09\\\\ppo\"\n",
    "#results_plotter.plot_results([log_dir], None, results_plotter.X_TIMESTEPS, \"Real Intersection\",figsize=(15,5))\n",
    "results_plotter.plot_results([log_dir], None, results_plotter.X_EPISODES, \"PPO. Reward Function 9. 2 Minute Simulation. LR = 0.1\",figsize=(15,5))\n",
    "#results_plotter.plot_results([log_dir], None, results_plotter.X_WALLTIME, \"Real Intersection\",figsize=(15,5))"
   ]
  },
  {
   "cell_type": "markdown",
   "metadata": {},
   "source": [
    "### Reward 10"
   ]
  },
  {
   "cell_type": "code",
   "execution_count": null,
   "metadata": {},
   "outputs": [],
   "source": [
    "log_dir = \"_models\\\\reward_10\\\\ppo\"\n",
    "#results_plotter.plot_results([log_dir], None, results_plotter.X_TIMESTEPS, \"Real Intersection\",figsize=(15,5))\n",
    "results_plotter.plot_results([log_dir], None, results_plotter.X_EPISODES, \"PPO. Reward Function 9. 2 Minute Simulation. LR = 0.1\",figsize=(15,5))\n",
    "#results_plotter.plot_results([log_dir], None, results_plotter.X_WALLTIME, \"Real Intersection\",figsize=(15,5))"
   ]
  },
  {
   "cell_type": "markdown",
   "metadata": {},
   "source": [
    "### Reward 11"
   ]
  },
  {
   "cell_type": "code",
   "execution_count": null,
   "metadata": {},
   "outputs": [],
   "source": [
    "log_dir = \"_models\\\\reward_11\\\\ppo\"\n",
    "#results_plotter.plot_results([log_dir], None, results_plotter.X_TIMESTEPS, \"Real Intersection\",figsize=(15,5))\n",
    "results_plotter.plot_results([log_dir], None, results_plotter.X_EPISODES, \"PPO. Reward Function 9. 2 Minute Simulation. LR = 0.1\",figsize=(15,5))\n",
    "#results_plotter.plot_results([log_dir], None, results_plotter.X_WALLTIME, \"Real Intersection\",figsize=(15,5))"
   ]
  },
  {
   "cell_type": "markdown",
   "metadata": {},
   "source": [
    "# A2C\n",
    "---"
   ]
  },
  {
   "cell_type": "markdown",
   "metadata": {},
   "source": [
    "### Reward 07"
   ]
  },
  {
   "cell_type": "code",
   "execution_count": null,
   "metadata": {},
   "outputs": [],
   "source": [
    "log_dir = \"_models\\\\reward_07\\\\a2c\"\n",
    "#results_plotter.plot_results([log_dir], None, results_plotter.X_TIMESTEPS, \"Real Intersection\",figsize=(15,5))\n",
    "results_plotter.plot_results([log_dir], None, results_plotter.X_EPISODES, \"A2C. Reward Function 7. 2 Minute Simulation. LR = 0.1\",figsize=(15,5))\n",
    "#results_plotter.plot_results([log_dir], None, results_plotter.X_WALLTIME, \"Real Intersection\",figsize=(15,5))"
   ]
  },
  {
   "cell_type": "markdown",
   "metadata": {},
   "source": [
    "### Reward 10"
   ]
  },
  {
   "cell_type": "code",
   "execution_count": null,
   "metadata": {},
   "outputs": [],
   "source": [
    "log_dir = \"_models\\\\reward_10\\\\a2c\"\n",
    "#results_plotter.plot_results([log_dir], None, results_plotter.X_TIMESTEPS, \"Real Intersection\",figsize=(15,5))\n",
    "results_plotter.plot_results([log_dir], None, results_plotter.X_EPISODES, \"A2C. Reward Function 7. 2 Minute Simulation. LR = 0.1\",figsize=(15,5))\n",
    "#results_plotter.plot_results([log_dir], None, results_plotter.X_WALLTIME, \"Real Intersection\",figsize=(15,5))"
   ]
  },
  {
   "cell_type": "markdown",
   "metadata": {},
   "source": [
    "### Reward 11"
   ]
  },
  {
   "cell_type": "code",
   "execution_count": null,
   "metadata": {},
   "outputs": [],
   "source": [
    "log_dir = \"_models\\\\reward_11\\\\a2c\"\n",
    "#results_plotter.plot_results([log_dir], None, results_plotter.X_TIMESTEPS, \"Real Intersection\",figsize=(15,5))\n",
    "results_plotter.plot_results([log_dir], None, results_plotter.X_EPISODES, \"A2C. Reward Function 7. 2 Minute Simulation. LR = 0.1\",figsize=(15,5))\n",
    "#results_plotter.plot_results([log_dir], None, results_plotter.X_WALLTIME, \"Real Intersection\",figsize=(15,5))"
   ]
  },
  {
   "cell_type": "markdown",
   "metadata": {},
   "source": [
    "# DQN\n",
    "---"
   ]
  },
  {
   "cell_type": "markdown",
   "metadata": {},
   "source": [
    "### Reward 07"
   ]
  },
  {
   "cell_type": "code",
   "execution_count": null,
   "metadata": {},
   "outputs": [],
   "source": [
    "log_dir = \"_models\\\\reward_07\\\\dqn\"\n",
    "#results_plotter.plot_results([log_dir], None, results_plotter.X_TIMESTEPS, \"Real Intersection\",figsize=(15,5))\n",
    "results_plotter.plot_results([log_dir], None, results_plotter.X_EPISODES, \"DQN. Reward Function 7. 2 Minute Simulation. LR = 0.1\",figsize=(15,5))\n",
    "#results_plotter.plot_results([log_dir], None, results_plotter.X_WALLTIME, \"Real Intersection\",figsize=(15,5))"
   ]
  },
  {
   "cell_type": "markdown",
   "metadata": {},
   "source": [
    "### Reward 08"
   ]
  },
  {
   "cell_type": "code",
   "execution_count": null,
   "metadata": {},
   "outputs": [],
   "source": [
    "log_dir = \"_models\\\\reward_08\\\\dqn\"\n",
    "#results_plotter.plot_results([log_dir], None, results_plotter.X_TIMESTEPS, \"Real Intersection\",figsize=(15,5))\n",
    "results_plotter.plot_results([log_dir], None, results_plotter.X_EPISODES, \"DQN. Reward Function 7. 2 Minute Simulation. LR = 0.1\",figsize=(15,5))\n",
    "#results_plotter.plot_results([log_dir], None, results_plotter.X_WALLTIME, \"Real Intersection\",figsize=(15,5))"
   ]
  },
  {
   "cell_type": "markdown",
   "metadata": {},
   "source": [
    "### Reward 10"
   ]
  },
  {
   "cell_type": "code",
   "execution_count": null,
   "metadata": {},
   "outputs": [],
   "source": [
    "log_dir = \"_models\\\\reward_10\\\\dqn\"\n",
    "#results_plotter.plot_results([log_dir], None, results_plotter.X_TIMESTEPS, \"Real Intersection\",figsize=(15,5))\n",
    "results_plotter.plot_results([log_dir], None, results_plotter.X_EPISODES, \"DQN. Reward Function 7. 2 Minute Simulation. LR = 0.1\",figsize=(15,5))\n",
    "#results_plotter.plot_results([log_dir], None, results_plotter.X_WALLTIME, \"Real Intersection\",figsize=(15,5))"
   ]
  },
  {
   "cell_type": "markdown",
   "metadata": {},
   "source": [
    "### Reward 11"
   ]
  },
  {
   "cell_type": "code",
   "execution_count": null,
   "metadata": {},
   "outputs": [],
   "source": [
    "log_dir = \"_models\\\\reward_11\\\\dqn\"\n",
    "#results_plotter.plot_results([log_dir], None, results_plotter.X_TIMESTEPS, \"Real Intersection\",figsize=(15,5))\n",
    "results_plotter.plot_results([log_dir], None, results_plotter.X_EPISODES, \"DQN. Reward Function 7. 2 Minute Simulation. LR = 0.1\",figsize=(15,5))\n",
    "#results_plotter.plot_results([log_dir], None, results_plotter.X_WALLTIME, \"Real Intersection\",figsize=(15,5))"
   ]
  }
 ],
 "metadata": {
  "interpreter": {
   "hash": "f344f29490a86472adfcb0d4c68c5dfdcf97bca003fdba9df268b07cb4a6c3e0"
  },
  "kernelspec": {
   "display_name": "Python 3.8.7 ('_penv': venv)",
   "language": "python",
   "name": "python3"
  },
  "language_info": {
   "codemirror_mode": {
    "name": "ipython",
    "version": 3
   },
   "file_extension": ".py",
   "mimetype": "text/x-python",
   "name": "python",
   "nbconvert_exporter": "python",
   "pygments_lexer": "ipython3",
   "version": "3.8.7"
  },
  "orig_nbformat": 4
 },
 "nbformat": 4,
 "nbformat_minor": 2
}
