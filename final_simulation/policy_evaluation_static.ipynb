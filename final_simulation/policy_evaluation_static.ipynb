{
 "cells": [
  {
   "cell_type": "code",
   "execution_count": 1,
   "metadata": {},
   "outputs": [
    {
     "data": {
      "text/plain": [
       "'D:\\\\Study\\\\RMIT\\\\2022\\\\COSC2793 - Computational Machine Learning\\\\Assignment02\\\\CML-Assign2'"
      ]
     },
     "execution_count": 1,
     "metadata": {},
     "output_type": "execute_result"
    }
   ],
   "source": [
    "import os\n",
    "os.chdir('D:\\\\Study\\\\RMIT\\\\2022\\\\COSC2793 - Computational Machine Learning\\\\Assignment02\\\\CML-Assign2')\n",
    "os.getcwd()"
   ]
  },
  {
   "cell_type": "code",
   "execution_count": 2,
   "metadata": {},
   "outputs": [],
   "source": [
    "from tabnanny import verbose\n",
    "from stable_baselines3.common.env_checker import check_env\n",
    "from final_simulation._env.real_intersection_static import RealIntersectionStatic\n",
    "from final_simulation._sumo.simplest_intersection_simulation import SignalStates, SumoSimulation\n",
    "from stable_baselines3.common.evaluation import evaluate_policy\n",
    "from stable_baselines3.common.monitor import Monitor\n",
    "import os"
   ]
  },
  {
   "cell_type": "code",
   "execution_count": 3,
   "metadata": {},
   "outputs": [],
   "source": [
    "log_dir = \"final_simulation\\\\_models\\\\static\"\n",
    "os.makedirs(log_dir, exist_ok=True)\n",
    "\n",
    "# Sim time 1 minute\n",
    "max_simulation_seconds = 180"
   ]
  },
  {
   "cell_type": "code",
   "execution_count": 4,
   "metadata": {},
   "outputs": [],
   "source": [
    "# Define simulation\n",
    "simulation = SumoSimulation(\n",
    "    sumo_binary_path=\"C:\\\\Program Files (x86)\\\\Eclipse\\\\Sumo\\\\bin\\\\sumo\",\n",
    "    #sumo_binary_path=\"C:\\\\Program Files (x86)\\\\Eclipse\\\\Sumo\\\\bin\\\\sumo-gui\",\n",
    "    sumo_config_path=\"C:\\\\sumoconfig\\\\real_intersection.sumocfg\",\n",
    "    signal_states=SignalStates\n",
    ")\n",
    "\n",
    "# Define environment\n",
    "env = RealIntersectionStatic(\n",
    "    simulation=simulation,\n",
    "    max_simulation_seconds=max_simulation_seconds\n",
    ")\n",
    "\n",
    "# Logs will be saved in log_dir/monitor.csv\n",
    "#env = Monitor(env, log_dir)"
   ]
  },
  {
   "cell_type": "code",
   "execution_count": 7,
   "metadata": {},
   "outputs": [
    {
     "name": "stdout",
     "output_type": "stream",
     "text": [
      "No simulation running.\n",
      "{'traffic':                 approaching_cars  stopped_cars  average_speed  \\\n",
      "routes                                                          \n",
      "east_to_north                0.0           0.0       0.000000   \n",
      "east_to_south                0.0           0.0       0.000000   \n",
      "east_to_west                 0.0           0.0       0.000000   \n",
      "north_to_east                0.0           0.0       0.000000   \n",
      "north_to_south               9.0           4.0       3.403641   \n",
      "north_to_west                4.0           3.0       0.621403   \n",
      "south_to_east                0.0           0.0       0.000000   \n",
      "south_to_north              14.0           8.0       2.591790   \n",
      "south_to_west                0.0           0.0       0.000000   \n",
      "west_to_east                 0.0           0.0       0.000000   \n",
      "west_to_north                2.0           0.0       9.911546   \n",
      "west_to_south                2.0           2.0       0.000000   \n",
      "\n",
      "                accumulated_waiting_time  new_throughput  \n",
      "routes                                                    \n",
      "east_to_north                        0.0             0.0  \n",
      "east_to_south                        0.0             0.0  \n",
      "east_to_west                         0.0             0.0  \n",
      "north_to_east                        0.0             0.0  \n",
      "north_to_south                     138.0             1.0  \n",
      "north_to_west                       67.0             0.0  \n",
      "south_to_east                        0.0             0.0  \n",
      "south_to_north                     266.0             0.0  \n",
      "south_to_west                        0.0             0.0  \n",
      "west_to_east                         0.0             0.0  \n",
      "west_to_north                        0.0             0.0  \n",
      "west_to_south                       50.0             0.0  , 'signal_state': 2, 'previous_signal_state': 2, 'previous_signal_active_time': 5, 'simulation_time': 100.0, 'reward': 0.058823529411764705}\n",
      "\n",
      "            Total Time Steps: 100\n",
      "            Previous Signal: GrrrGrrr\n",
      "            Total Signal Changes: 11\n",
      "            Total Throughput: 34.0\n",
      "            Total Wait Time: 21781.0\n",
      "            Total Reward: -29.46769800460977\n",
      "            \n",
      "saving observation file..\n",
      "info: {'traffic':                 approaching_cars  stopped_cars  average_speed  \\\n",
      "routes                                                          \n",
      "east_to_north                0.0           0.0       0.000000   \n",
      "east_to_south                0.0           0.0       0.000000   \n",
      "east_to_west                 1.0           1.0       0.003684   \n",
      "north_to_east                0.0           0.0       0.000000   \n",
      "north_to_south              12.0           9.0       1.885882   \n",
      "north_to_west                6.0           5.0       1.785396   \n",
      "south_to_east                0.0           0.0       0.000000   \n",
      "south_to_north              17.0          14.0       0.906130   \n",
      "south_to_west                1.0           0.0       9.763286   \n",
      "west_to_east                 0.0           0.0       0.000000   \n",
      "west_to_north                1.0           0.0      12.257269   \n",
      "west_to_south                3.0           2.0       3.757713   \n",
      "\n",
      "                accumulated_waiting_time  new_throughput  \n",
      "routes                                                    \n",
      "east_to_north                        0.0             0.0  \n",
      "east_to_south                        0.0             0.0  \n",
      "east_to_west                         4.0             0.0  \n",
      "north_to_east                        0.0             0.0  \n",
      "north_to_south                     276.0             0.0  \n",
      "north_to_west                      199.0             0.0  \n",
      "south_to_east                        0.0             0.0  \n",
      "south_to_north                     455.0             0.0  \n",
      "south_to_west                        0.0             0.0  \n",
      "west_to_east                         0.0             0.0  \n",
      "west_to_north                        0.0             0.0  \n",
      "west_to_south                       79.0             0.0  , 'signal_state': 2, 'previous_signal_state': 2, 'previous_signal_active_time': 1, 'simulation_time': 180.0, 'reward': 0.0, 'episode': {'r': -59.462566, 'l': 179, 't': 120.564523}}\n",
      "\n",
      "            Total Time Steps: 180\n",
      "            Previous Signal: GrrrGrrr\n",
      "            Total Signal Changes: 19\n",
      "            Total Throughput: 73.0\n",
      "            Total Wait Time: 61813.0\n",
      "            Total Reward: -59.462566316065946\n",
      "            \n"
     ]
    }
   ],
   "source": [
    "\n",
    "observation = env.reset()\n",
    "step = 1\n",
    "while True:\n",
    "\n",
    "    step += 1\n",
    "    observation, reward, done, info = env.step(0)\n",
    "\n",
    "    if step % 100 == 0:\n",
    "        print(info)\n",
    "        env.render(mode='console')\n",
    "    if done:\n",
    "        #print(\"Goal reached!\", \"reward=\", env._total_reward)\n",
    "        print(info)\n",
    "        env.render(mode='console')\n",
    "        break\n"
   ]
  },
  {
   "cell_type": "code",
   "execution_count": null,
   "metadata": {},
   "outputs": [],
   "source": []
  }
 ],
 "metadata": {
  "interpreter": {
   "hash": "f344f29490a86472adfcb0d4c68c5dfdcf97bca003fdba9df268b07cb4a6c3e0"
  },
  "kernelspec": {
   "display_name": "Python 3.8.7 ('_penv': venv)",
   "language": "python",
   "name": "python3"
  },
  "language_info": {
   "codemirror_mode": {
    "name": "ipython",
    "version": 3
   },
   "file_extension": ".py",
   "mimetype": "text/x-python",
   "name": "python",
   "nbconvert_exporter": "python",
   "pygments_lexer": "ipython3",
   "version": "3.8.7"
  },
  "orig_nbformat": 4
 },
 "nbformat": 4,
 "nbformat_minor": 2
}
