{
 "cells": [
  {
   "cell_type": "code",
   "execution_count": 1,
   "metadata": {},
   "outputs": [
    {
     "data": {
      "text/plain": [
       "'D:\\\\Study\\\\RMIT\\\\2022\\\\COSC2793 - Computational Machine Learning\\\\Assignment02\\\\CML-Assign2'"
      ]
     },
     "execution_count": 1,
     "metadata": {},
     "output_type": "execute_result"
    }
   ],
   "source": [
    "import os\n",
    "os.chdir('D:\\\\Study\\\\RMIT\\\\2022\\\\COSC2793 - Computational Machine Learning\\\\Assignment02\\\\CML-Assign2')\n",
    "os.getcwd()"
   ]
  },
  {
   "cell_type": "code",
   "execution_count": 2,
   "metadata": {},
   "outputs": [
    {
     "name": "stdout",
     "output_type": "stream",
     "text": [
      "The Zen of Python, by Tim Peters\n",
      "\n",
      "Beautiful is better than ugly.\n",
      "Explicit is better than implicit.\n",
      "Simple is better than complex.\n",
      "Complex is better than complicated.\n",
      "Flat is better than nested.\n",
      "Sparse is better than dense.\n",
      "Readability counts.\n",
      "Special cases aren't special enough to break the rules.\n",
      "Although practicality beats purity.\n",
      "Errors should never pass silently.\n",
      "Unless explicitly silenced.\n",
      "In the face of ambiguity, refuse the temptation to guess.\n",
      "There should be one-- and preferably only one --obvious way to do it.\n",
      "Although that way may not be obvious at first unless you're Dutch.\n",
      "Now is better than never.\n",
      "Although never is often better than *right* now.\n",
      "If the implementation is hard to explain, it's a bad idea.\n",
      "If the implementation is easy to explain, it may be a good idea.\n",
      "Namespaces are one honking great idea -- let's do more of those!\n"
     ]
    }
   ],
   "source": [
    "import numpy as np\n",
    "from final_simulation._env.real_intersection import RealIntersectionSimpleObs12\n",
    "from final_simulation._sumo.simplest_intersection_simulation import SignalStates, SumoSimulationSimpleObs\n",
    "from final_simulation.sarsa import SARSA\n",
    "import pandas as pd\n"
   ]
  },
  {
   "cell_type": "markdown",
   "metadata": {},
   "source": [
    "## Reward 12 (Simple)"
   ]
  },
  {
   "cell_type": "code",
   "execution_count": 3,
   "metadata": {},
   "outputs": [],
   "source": [
    "log_dir = \"final_simulation\\\\_models\\\\reward_12\\\\simple\\\\sarsa\"\n",
    "os.makedirs(log_dir, exist_ok=True)"
   ]
  },
  {
   "cell_type": "markdown",
   "metadata": {},
   "source": [
    "Define bins"
   ]
  },
  {
   "cell_type": "code",
   "execution_count": 4,
   "metadata": {},
   "outputs": [],
   "source": [
    "# Define custom sized bins for observation space discretisation\n",
    "stopped_cars_bins = np.array([0,4,10,20,np.inf])\n",
    "throughput_bins = np.array([0,2,6,12,np.inf])\n",
    "signals_bins = np.arange(0,8)\n",
    "signal_timer_bins = np.array([0,5,15,25,np.inf])\n",
    "\n",
    "bins = [\n",
    "    # Stopped cars from each cardinal direction\n",
    "    stopped_cars_bins,\n",
    "    stopped_cars_bins,\n",
    "    stopped_cars_bins,\n",
    "    stopped_cars_bins,\n",
    "    # Throughput\n",
    "    throughput_bins,\n",
    "    # Current signal state\n",
    "    signals_bins,\n",
    "    # Previous signal state\n",
    "    signals_bins,\n",
    "    # Previous signal active time\n",
    "    signal_timer_bins\n",
    "]"
   ]
  },
  {
   "cell_type": "code",
   "execution_count": 5,
   "metadata": {},
   "outputs": [],
   "source": [
    "# Sim time 1 minute\n",
    "max_simulation_seconds = 60\n",
    "\n",
    "# Define simulation\n",
    "simulation = SumoSimulationSimpleObs(\n",
    "    sumo_binary_path=\"C:\\\\Program Files (x86)\\\\Eclipse\\\\Sumo\\\\bin\\\\sumo\",\n",
    "    #sumo_binary_path=\"C:\\\\Program Files (x86)\\\\Eclipse\\\\Sumo\\\\bin\\\\sumo-gui\",\n",
    "    sumo_config_path=\"C:\\\\sumoconfig\\\\real_intersection.sumocfg\",\n",
    "    signal_states=SignalStates\n",
    ")\n",
    "\n",
    "n_episodes = 10\n",
    "epsilon_initial = 1\n",
    "epsilon_decay_episodes_percent = 0.7\n",
    "alpha = 0.1\n",
    "gamma = 0.95\n",
    "discrete_observation_bins = bins\n",
    "\n",
    "# Define environment\n",
    "env = RealIntersectionSimpleObs12(\n",
    "    simulation=simulation,\n",
    "    max_simulation_seconds=max_simulation_seconds\n",
    ")\n",
    "\n",
    "model = SARSA(\n",
    "    n_episodes=n_episodes,\n",
    "    epsilon_initial=epsilon_initial,\n",
    "    epsilon_decay_episodes_percent=epsilon_decay_episodes_percent,\n",
    "    alpha=alpha,\n",
    "    gamma=gamma,\n",
    "    discrete_observation_bins=discrete_observation_bins,\n",
    "    env=env,\n",
    "    log_dir=log_dir\n",
    ")"
   ]
  },
  {
   "cell_type": "code",
   "execution_count": 6,
   "metadata": {},
   "outputs": [
    {
     "name": "stdout",
     "output_type": "stream",
     "text": [
      "Episode:  1\n",
      "No simulation running.\n",
      "1\n",
      "saving observation file..\n",
      "Episode:  2\n",
      "No simulation running.\n",
      "0.8333333333333334\n",
      "saving observation file..\n",
      "Episode:  3\n",
      "No simulation running.\n",
      "0.6666666666666667\n",
      "saving observation file..\n",
      "Episode:  4\n",
      "No simulation running.\n",
      "0.5000000000000001\n",
      "saving observation file..\n",
      "Episode:  5\n",
      "No simulation running.\n",
      "0.3333333333333335\n",
      "saving observation file..\n",
      "Episode:  6\n",
      "No simulation running.\n",
      "0.16666666666666682\n",
      "saving observation file..\n",
      "Episode:  7\n",
      "No simulation running.\n",
      "1.6653345369377348e-16\n",
      "saving observation file..\n",
      "Episode:  8\n",
      "No simulation running.\n",
      "-0.1666666666666665\n",
      "saving observation file..\n",
      "Episode:  9\n",
      "No simulation running.\n",
      "-0.1666666666666665\n",
      "saving observation file..\n",
      "Episode:  10\n",
      "No simulation running.\n",
      "-0.1666666666666665\n",
      "saving observation file..\n"
     ]
    }
   ],
   "source": [
    "model.learn()"
   ]
  },
  {
   "cell_type": "code",
   "execution_count": null,
   "metadata": {},
   "outputs": [],
   "source": []
  }
 ],
 "metadata": {
  "interpreter": {
   "hash": "f344f29490a86472adfcb0d4c68c5dfdcf97bca003fdba9df268b07cb4a6c3e0"
  },
  "kernelspec": {
   "display_name": "Python 3.8.7 ('_penv': venv)",
   "language": "python",
   "name": "python3"
  },
  "language_info": {
   "codemirror_mode": {
    "name": "ipython",
    "version": 3
   },
   "file_extension": ".py",
   "mimetype": "text/x-python",
   "name": "python",
   "nbconvert_exporter": "python",
   "pygments_lexer": "ipython3",
   "version": "3.8.7"
  },
  "orig_nbformat": 4
 },
 "nbformat": 4,
 "nbformat_minor": 2
}
